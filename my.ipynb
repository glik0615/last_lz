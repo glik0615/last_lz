{
 "cells": [
  {
   "cell_type": "code",
   "execution_count": 9,
   "metadata": {},
   "outputs": [
    {
     "name": "stdout",
     "output_type": "stream",
     "text": [
      "Введите значение болометрического показателя звезды\n",
      "Значение среднего радиуса обитаемой зоны вокруг звехды равенЖ 0.0005571224550311457\n"
     ]
    }
   ],
   "source": [
    "from math import sqrt\n",
    "life = lambda L: sqrt(L/(3.86*(10**33)))*149597870700\n",
    "\n",
    "\n",
    "def main():\n",
    "    print('Введите значение болометрического показателя звезды')\n",
    "    L = int(input())\n",
    "    print('Значение среднего радиуса обитаемой зоны вокруг звехды равенЖ',life(L))\n",
    "\n",
    "\n",
    "if __name__=='__main__':\n",
    "    main()\n"
   ]
  }
 ],
 "metadata": {
  "kernelspec": {
   "display_name": "Python 3",
   "language": "python",
   "name": "python3"
  },
  "language_info": {
   "codemirror_mode": {
    "name": "ipython",
    "version": 3
   },
   "file_extension": ".py",
   "mimetype": "text/x-python",
   "name": "python",
   "nbconvert_exporter": "python",
   "pygments_lexer": "ipython3",
   "version": "3.12.3"
  }
 },
 "nbformat": 4,
 "nbformat_minor": 2
}
